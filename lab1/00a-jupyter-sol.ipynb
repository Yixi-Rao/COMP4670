{
 "cells": [
  {
   "cell_type": "markdown",
   "metadata": {},
   "source": [
    "# Introduction to Jupyter notebooks"
   ]
  },
  {
   "cell_type": "markdown",
   "metadata": {},
   "source": [
    "###### COMP4670/8600 - Statistical Machine Learning"
   ]
  },
  {
   "cell_type": "markdown",
   "metadata": {},
   "source": [
    "This tutorial will introduce the *basic elements* for writing Python programs, and using \n",
    "[Jupyter notebooks](http://jupyter.org/). \n",
    "\n",
    "Due to the wide variety of backgrounds that students may have, it is worth recalling some mathematics and statistics that we build upon in this course."
   ]
  },
  {
   "cell_type": "markdown",
   "metadata": {},
   "source": [
    "$\\newcommand{\\RR}{\\mathbb{R}}$\n",
    "## Basic knowledge\n",
    "\n",
    "Let's refresh our memory about some concepts.\n",
    "\n",
    "### Random variables\n",
    "\n",
    "Write down the definitions of the following entities, and provide a simple example to illustrate.\n",
    "\n",
    "1. The expectation of a function $f$ with respect to a\n",
    "   * continuous random variable $X$\n",
    "   * discrete random variable $X$\n",
    "2. The variance of a random variable $X$.\n",
    "3. Independence of two random variables $X$ and $Y$"
   ]
  },
  {
   "cell_type": "markdown",
   "metadata": {},
   "source": [
    "### Solution\n",
    "\n",
    "1. Expectation\n",
    "    * Continuous random variable:\n",
    "        * $\\mathbb{E}[f]=\\int p(x)f(x)dx$\n",
    "        * Example: $x \\in [0,1]$, $p(x)=1$ (ie. constant), $f(x)=x^2$. $\\mathbb{E}[f]=\\int_0^1x^2dx=[\\frac{1}{3}x^3]^1_0=\\frac{1}{3}$.\n",
    "    * Discrete random variable:\n",
    "        * $\\mathbb{E}[f]=\\sum\\limits_{x}p(x)f(x)$  \n",
    "        * Example: $x \\in \\{0,1\\}$, $p(1)=\\frac{1}{1000},p(0)=\\frac{999}{1000}$, $f(1)=100,f(0)=0$. $\\mathbb{E}[f]=\\frac{1}{1000}\\times 100 + \\frac{999}{1000} \\times 0=0.1$.  \n",
    "2. Variance: $Var(X)=\\mathbb{E}[(X-\\mathbb{E}[X])^2]$\n",
    "    * Example (continuing discrete random variable example above): $Var(X)=\\frac{1}{1000}\\times(100-0.1)^2 + \\frac{999}{1000} \\times (0-0.1)^2=9.99$.\n",
    "3. Independence: $p(x,y)=p(x)p(y)$. Example shown in table below:\n",
    "    \n",
    "| | X=heads | X=tails | Total|\n",
    "|:--:|:--------------------------:|:--:|:--:|\n",
    "| Y = cloudy |0.15 |0.15 |0.3|\n",
    "| Y = sunny |0.35|0.35|0.7|\n",
    "|Total|0.5|0.5|1|"
   ]
  },
  {
   "cell_type": "markdown",
   "metadata": {},
   "source": [
    "### Discrete probabilities\n",
    "\n",
    "For discrete random variables $X$ and $Y$, define the following, and show an example of how it applies to the example below.\n",
    "\n",
    "| $p(\\mathbf{X},\\mathbf{Y})$ | X=a | X=b | X=c | X=d | X=e |\n",
    "|:--------------------------:|:--:|:--:|:--:|:--:|:--:|\n",
    "| **Y** = red |0.2 |0.1 |0.1 |0.01|0.04|\n",
    "| **Y** = green |0.08|0.07|0.01|0.05|0.05|\n",
    "| **Y** = blue |0.01|0.01|0.07|0.05|0.15|\n",
    "\n",
    "1. The sum rule of probability theory\n",
    "2. The product rule of probability theory\n",
    "3. Independence of two random variables $X$ and $Y$"
   ]
  },
  {
   "cell_type": "markdown",
   "metadata": {},
   "source": [
    "### Solution\n",
    "1. Sum rule\n",
    "    * $p(Y=y)=\\sum\\limits_xp(X=x,Y=y)$\n",
    "    * Example: $p(Y=red)=\\sum\\limits_xp(X=x,Y=red)=0.2+0.1+0.1+0.01+0.04=0.45$.\n",
    "2. Product rule\n",
    "    * $p(X=x,Y=y)=p(X=x)p(Y=y|X=x)$\n",
    "    * Example: $p(X=a,Y=red)=p(X=a)p(Y=red|X=a)=(0.2+0.08+0.01)\\times\\frac{0.2}{0.2+0.08+0.01}=0.2$.\n",
    "3. Independence:\n",
    "    * see definition in previous question\n",
    "    * Example: \n",
    "        * $p(X=a,Y=red)=0.2$\n",
    "        * $p(X=a)p(Y=red)=(0.2+0.08+0.01)\\times(0.2+0.1+0.1+0.01+0.04)=0.29\\times0.45=0.1305$.\n",
    "        * Therefore $X$ and $Y$ are not independent."
   ]
  },
  {
   "cell_type": "markdown",
   "metadata": {},
   "source": [
    "### Solution\n",
    "1. Sum rule\n",
    "    * $p(Y=y)=\\sum\\limits_xp(X=x,Y=y)$\n",
    "    * Example: $p(Y=red)=\\sum\\limits_xp(X=x,Y=red)=0.2+0.1+0.1+0.01+0.04=0.45$.\n",
    "2. Product rule\n",
    "    * $p(X=x,Y=y)=p(X=x)p(Y=y|X=x)$\n",
    "    * Example: $p(X=a,Y=red)=p(X=a)p(Y=red|X=a)=(0.2+0.08+0.01)\\times\\frac{0.2}{0.2+0.08+0.01}=0.2$.\n",
    "3. Independence:\n",
    "    * see definition in previous question\n",
    "    * Example: \n",
    "        * $p(X=a,Y=red)=0.2$\n",
    "        * $p(X=a)p(Y=red)=(0.2+0.08+0.01)\\times(0.2+0.1+0.1+0.01+0.04)=0.29\\times0.45=0.1305$.\n",
    "        * Therefore $X$ and $Y$ are not independent."
   ]
  },
  {
   "cell_type": "markdown",
   "metadata": {},
   "source": [
    "### Calculus\n",
    "\n",
    "Compute the gradient of the following function $f:\\RR\\to\\RR$\n",
    "$$\n",
    "f(x) = \\frac{1}{1 + \\exp(x^2)}\n",
    "$$\n",
    "What would the the gradient if $x$ was two dimensional (that is $f:\\RR^2\\to\\RR$)? Generalise the scalar function above appropriately."
   ]
  },
  {
   "cell_type": "markdown",
   "metadata": {},
   "source": [
    "### Solution\n",
    "* One dimension\n",
    "$$\\frac{df}{dx}=\\frac{-2x\\exp(x^2)}{(1+\\exp(x^2))^2}$$\n",
    "* Two dimensions\n",
    "\n",
    "$x^2$ is not defined if $x$ is a vector. However, if $$f(x) = \\frac{1}{1 + \\exp(||x||^2)}=\\frac{1}{1 + \\exp(x_1^2+x_2^2)}$$\n",
    "\n",
    "then\n",
    "\n",
    "$$\\nabla{f}=\\begin{bmatrix}\\frac{\\partial f}{\\partial x_1}\\\\\\frac{\\partial f}{\\partial x_2}\\end{bmatrix}=\\frac{-2\\exp(||x||^2)}{(1+\\exp(||x||^2))^2}\\begin{bmatrix}x_1\\\\x_2\\end{bmatrix}$$"
   ]
  },
  {
   "cell_type": "markdown",
   "metadata": {},
   "source": [
    "## Python and Programming for Machine Learning"
   ]
  },
  {
   "cell_type": "markdown",
   "metadata": {},
   "source": [
    "*If you already know Python and Jupyter notebooks well, please work on Tutorial 1b \"Matrix decomposition\"*\n",
    "\n",
    "The introduction will focus on the concepts necessary for writing small programs in Python for the purpose of Machine Learning. That means, we expect a user of the code will be a reasonable knowledgeable person. Therefore, we can *skip* most of the code a robust system would have to contain in order to *check* the input types, *verify* the input parameter ranges, and *make sure* that really nothing can go wrong when somebody else is using the code.\n",
    "Having said this, you are nevertheless encouraged to include some sanity tests into your code to avoid making simple errors which can cost you a lot of time to find.\n",
    "Some of the Python concepts discussed in the tutorial will be\n",
    "- Data types (bool, int, float, str, list, tuple, set, dict)\n",
    "- Operators\n",
    "- Data flow\n",
    "- Functions\n",
    "- Classes and objects\n",
    "- Modules and how to use them\n",
    "\n",
    "**We will be using [Python3](https://wiki.python.org/moin/Python2orPython3) in this course**.\n",
    "\n",
    "Some resources:\n",
    "- [CodeAcademy](http://www.codecademy.com/en/tracks/python) gives a step by step introduction to python\n",
    "- [How to think like a computer scientist](http://interactivepython.org/courselib/static/thinkcspy/index.html) does what it says, using Python\n",
    "\n",
    "## Installation\n",
    "\n",
    "The easiest way to get a working Python environment is using one of the following collections:\n",
    "- [Enthought canopy](https://store.enthought.com/)\n",
    "- [Anaconda](http://continuum.io/downloads)\n",
    "\n",
    "It is also not too difficult to install python using your favourite package manager and then use [conda](http://conda.pydata.org/docs/) or [pip](http://en.wikipedia.org/wiki/Pip_%28package_manager%29) to manage python packages."
   ]
  },
  {
   "cell_type": "markdown",
   "metadata": {},
   "source": [
    "## Jupyter Notebooks"
   ]
  },
  {
   "cell_type": "markdown",
   "metadata": {},
   "source": [
    "**To work on a worksheet or assignment, download the notebook and edit it locally.**\n",
    "\n",
    "[Jupyter notebooks](http://jupyter.org/) provide a convenient browser based environment for data analysis in a literate programming environment. The descriptive parts of the notebook implements an enhanced version of [markdown](http://daringfireball.net/projects/markdown/syntax), which allows the use of [LaTeX](http://www.latex-project.org/) for rendering equations.\n",
    "1. Descriptive notes\n",
    "   - Markdown\n",
    "   - LaTeX\n",
    "2. Computational code\n",
    "   - numerical python\n",
    "      * numpy\n",
    "      * scipy\n",
    "   - matplotlib\n",
    "   \n",
    "To use a notebook locally:\n",
    "```bash\n",
    "jupyter notebook name_of_file.ipynb\n",
    "```\n"
   ]
  },
  {
   "cell_type": "markdown",
   "metadata": {},
   "source": [
    "## Markdown and LaTeX\n",
    "\n",
    "In addition to lists and links which are already shown above, \n",
    "tables are also nice and easy\n",
    "\n",
    "|Title | Middle| Left aligned | Right aligned |\n",
    "|------|:-----:|:-----|--:|\n",
    "|Monday|10:00|Sunny|*30*|\n",
    "|Thursday|12:32|Rain|*22.3*|\n",
    "\n",
    "It is also easy to typeset good looking equations inline, such as $f(x) = x^2$, or on a line by itself.\n",
    "\\begin{equation}\n",
    "    g(x) = \\sum_{i=1}^n \\frac{\\prod_{j=1}^d y_j \\sqrt{3x_i^4}}{f(x_i)}\n",
    "\\end{equation}\n",
    "If you use a symbol often, you can define it at the top of a document as follows (look at source), and use it in equations.\n",
    "\n",
    "$\\newcommand{\\amazing}{\\sqrt{3x_i^4}}$\n",
    "\n",
    "\\begin{equation}\n",
    "    h(x) = \\sum_{i=1}^n \\amazing\n",
    "\\end{equation}\n",
    "\n",
    "## Computational code\n",
    "\n",
    "Setting up python environment ([do not use pylab](http://carreau.github.io/posts/10-No-PyLab-Thanks.ipynb.html))"
   ]
  },
  {
   "cell_type": "code",
   "execution_count": 1,
   "metadata": {},
   "outputs": [],
   "source": [
    "import matplotlib.pyplot as plt\n",
    "import numpy as np\n",
    "import scipy as sp\n",
    "\n",
    "%matplotlib inline"
   ]
  },
  {
   "cell_type": "markdown",
   "metadata": {},
   "source": [
    "Some resources:\n",
    "* [Tentative NumPy Tutorial](http://wiki.scipy.org/Tentative_NumPy_Tutorial)\n",
    "* [SciPy Tutorial](http://docs.scipy.org/doc/scipy/reference/tutorial/)\n",
    "* [Matplotlib PyPlot Tutorial](http://matplotlib.org/1.3.1/users/pyplot_tutorial.html)\n"
   ]
  },
  {
   "cell_type": "markdown",
   "metadata": {},
   "source": [
    "## Toy dataset for debugging\n",
    "\n",
    "Write a function ```gen_data``` that generates data from two Gaussians with unit variance, centered at $\\mathbf{1}$ and $-\\mathbf{1}$ respectively. $\\mathbf{1}$ is the vector of all ones.\n",
    "\n",
    "*Hint: use ```np.ones``` and ```np.random.randn```*\n",
    "\n",
    "Use the function to generate 100 samples from each Gaussian, with a 5 dimensional feature space."
   ]
  },
  {
   "cell_type": "code",
   "execution_count": 2,
   "metadata": {},
   "outputs": [],
   "source": [
    "# Solution\n",
    "def gen_data(n_samples=100, n_feat=5):\n",
    "    \"\"\"Generate data from two Gaussians\n",
    "    n_samples = number of samples from each Gaussian\n",
    "    n_feat = dimension of the features\n",
    "    \"\"\"\n",
    "    X1 = np.ones((n_feat, n_samples))   + np.random.randn(n_feat, n_samples)\n",
    "    X2 = - np.ones((n_feat, n_samples)) + np.random.randn(n_feat, n_samples)\n",
    "    X  = np.hstack([X1,X2])\n",
    "    return X\n",
    "\n",
    "toy_data = gen_data()"
   ]
  },
  {
   "cell_type": "markdown",
   "metadata": {},
   "source": [
    "Use ```gen_data``` to generate 100 samples from each Gaussian, with a 2 dimensional feature space. Plot this data.\n",
    "\n",
    "Discuss:\n",
    "- Can you see two bumps?\n",
    "- Does the data look Gaussian?\n",
    "- What happens with more dimensions?"
   ]
  },
  {
   "cell_type": "code",
   "execution_count": 4,
   "metadata": {},
   "outputs": [
    {
     "ename": "NameError",
     "evalue": "name 'gen_data' is not defined",
     "output_type": "error",
     "traceback": [
      "\u001b[1;31m---------------------------------------------------------------------------\u001b[0m",
      "\u001b[1;31mNameError\u001b[0m                                 Traceback (most recent call last)",
      "\u001b[1;32m<ipython-input-4-19b71490a8cc>\u001b[0m in \u001b[0;36m<module>\u001b[1;34m\u001b[0m\n\u001b[0;32m      1\u001b[0m \u001b[1;31m# Solution\u001b[0m\u001b[1;33m\u001b[0m\u001b[1;33m\u001b[0m\u001b[1;33m\u001b[0m\u001b[0m\n\u001b[1;32m----> 2\u001b[1;33m \u001b[0mX\u001b[0m \u001b[1;33m=\u001b[0m \u001b[0mgen_data\u001b[0m\u001b[1;33m(\u001b[0m\u001b[1;36m100\u001b[0m\u001b[1;33m,\u001b[0m \u001b[1;36m2\u001b[0m\u001b[1;33m)\u001b[0m\u001b[1;33m\u001b[0m\u001b[1;33m\u001b[0m\u001b[0m\n\u001b[0m\u001b[0;32m      3\u001b[0m \u001b[0mplt\u001b[0m\u001b[1;33m.\u001b[0m\u001b[0mplot\u001b[0m\u001b[1;33m(\u001b[0m\u001b[0mX\u001b[0m\u001b[1;33m[\u001b[0m\u001b[1;36m0\u001b[0m\u001b[1;33m,\u001b[0m\u001b[1;33m:\u001b[0m\u001b[1;33m]\u001b[0m\u001b[1;33m,\u001b[0m \u001b[0mX\u001b[0m\u001b[1;33m[\u001b[0m\u001b[1;36m1\u001b[0m\u001b[1;33m,\u001b[0m\u001b[1;33m:\u001b[0m\u001b[1;33m]\u001b[0m\u001b[1;33m,\u001b[0m \u001b[1;34m'r.'\u001b[0m\u001b[1;33m)\u001b[0m\u001b[1;33m\u001b[0m\u001b[1;33m\u001b[0m\u001b[0m\n\u001b[0;32m      4\u001b[0m \u001b[0mplt\u001b[0m\u001b[1;33m.\u001b[0m\u001b[0mshow\u001b[0m\u001b[1;33m(\u001b[0m\u001b[1;33m)\u001b[0m\u001b[1;33m\u001b[0m\u001b[1;33m\u001b[0m\u001b[0m\n",
      "\u001b[1;31mNameError\u001b[0m: name 'gen_data' is not defined"
     ]
    }
   ],
   "source": [
    "# Solution\n",
    "X = gen_data(100, 2)\n",
    "plt.plot(X[0,:], X[1,:], 'r.')\n",
    "plt.show()"
   ]
  },
  {
   "cell_type": "markdown",
   "metadata": {},
   "source": [
    "## Reading the writing CSV\n",
    "\n",
    "Write a file containing the data to a csv file. Confirm that you can read this data using python and also manually inspect the file with a text editor."
   ]
  },
  {
   "cell_type": "code",
   "execution_count": 3,
   "metadata": {},
   "outputs": [
    {
     "ename": "NameError",
     "evalue": "name 'np' is not defined",
     "output_type": "error",
     "traceback": [
      "\u001b[1;31m---------------------------------------------------------------------------\u001b[0m",
      "\u001b[1;31mNameError\u001b[0m                                 Traceback (most recent call last)",
      "\u001b[1;32m<ipython-input-3-410f14232423>\u001b[0m in \u001b[0;36m<module>\u001b[1;34m\u001b[0m\n\u001b[0;32m      1\u001b[0m \u001b[1;31m# Solution\u001b[0m\u001b[1;33m\u001b[0m\u001b[1;33m\u001b[0m\u001b[1;33m\u001b[0m\u001b[0m\n\u001b[1;32m----> 2\u001b[1;33m \u001b[0mnp\u001b[0m\u001b[1;33m.\u001b[0m\u001b[0msavetxt\u001b[0m\u001b[1;33m(\u001b[0m\u001b[1;34m'two-gaussians.csv'\u001b[0m\u001b[1;33m,\u001b[0m \u001b[0mX\u001b[0m\u001b[1;33m.\u001b[0m\u001b[0mT\u001b[0m\u001b[1;33m,\u001b[0m \u001b[0mdelimiter\u001b[0m\u001b[1;33m=\u001b[0m\u001b[1;34m','\u001b[0m\u001b[1;33m)\u001b[0m\u001b[1;33m\u001b[0m\u001b[1;33m\u001b[0m\u001b[0m\n\u001b[0m\u001b[0;32m      3\u001b[0m \u001b[0mX_loaded_transpose\u001b[0m \u001b[1;33m=\u001b[0m \u001b[0mnp\u001b[0m\u001b[1;33m.\u001b[0m\u001b[0mloadtxt\u001b[0m\u001b[1;33m(\u001b[0m\u001b[1;34m'two-gaussians.csv'\u001b[0m\u001b[1;33m,\u001b[0m \u001b[0mdelimiter\u001b[0m\u001b[1;33m=\u001b[0m\u001b[1;34m','\u001b[0m\u001b[1;33m)\u001b[0m\u001b[1;33m\u001b[0m\u001b[1;33m\u001b[0m\u001b[0m\n\u001b[0;32m      4\u001b[0m \u001b[0mX_loaded\u001b[0m \u001b[1;33m=\u001b[0m \u001b[0mX_loaded_transpose\u001b[0m\u001b[1;33m.\u001b[0m\u001b[0mT\u001b[0m\u001b[1;33m\u001b[0m\u001b[1;33m\u001b[0m\u001b[0m\n\u001b[0;32m      5\u001b[0m \u001b[1;32massert\u001b[0m \u001b[0mnp\u001b[0m\u001b[1;33m.\u001b[0m\u001b[0mallclose\u001b[0m\u001b[1;33m(\u001b[0m\u001b[0mX_loaded\u001b[0m\u001b[1;33m,\u001b[0m \u001b[0mX\u001b[0m\u001b[1;33m)\u001b[0m\u001b[1;33m\u001b[0m\u001b[1;33m\u001b[0m\u001b[0m\n",
      "\u001b[1;31mNameError\u001b[0m: name 'np' is not defined"
     ]
    }
   ],
   "source": [
    "# Solution\n",
    "np.savetxt('two-gaussians.csv', X.T, delimiter=',')\n",
    "X_loaded_transpose = np.loadtxt('two-gaussians.csv', delimiter=',')\n",
    "X_loaded = X_loaded_transpose.T\n",
    "assert np.allclose(X_loaded, X)"
   ]
  },
  {
   "cell_type": "code",
   "execution_count": 5,
   "metadata": {},
   "outputs": [],
   "source": []
  }
 ],
 "metadata": {
  "kernelspec": {
   "display_name": "Python 3",
   "language": "python",
   "name": "python3"
  },
  "language_info": {
   "codemirror_mode": {
    "name": "ipython",
    "version": 3
   },
   "file_extension": ".py",
   "mimetype": "text/x-python",
   "name": "python",
   "nbconvert_exporter": "python",
   "pygments_lexer": "ipython3",
   "version": "3.8.5"
  }
 },
 "nbformat": 4,
 "nbformat_minor": 1
}
